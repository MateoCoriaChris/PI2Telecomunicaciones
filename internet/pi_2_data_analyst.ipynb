{
  "nbformat": 4,
  "nbformat_minor": 0,
  "metadata": {
    "colab": {
      "provenance": []
    },
    "kernelspec": {
      "name": "python3",
      "display_name": "Python 3"
    },
    "language_info": {
      "name": "python"
    }
  },
  "cells": [
    {
      "cell_type": "code",
      "execution_count": 20,
      "metadata": {
        "id": "n_h07hR5uCUi"
      },
      "outputs": [],
      "source": [
        "import sqlite3\n",
        "import pandas as pd\n",
        "from google.colab import files\n",
        "import matplotlib.pyplot as plt\n",
        "import seaborn as sns\n",
        "import numpy as np"
      ]
    },
    {
      "cell_type": "code",
      "source": [
        "conn = sqlite3.connect(\"telecomunicaciones.db\")\n",
        "cursor = conn.cursor()"
      ],
      "metadata": {
        "id": "Yotp_JX0BpoF"
      },
      "execution_count": 21,
      "outputs": []
    },
    {
      "cell_type": "code",
      "source": [
        "# Cargar datos desde los archivos Excel subidos\n",
        "df_internet = pd.read_excel(\"/content/drive/MyDrive/proyecto_individual_2(Henry,internet)/Internet.xlsx\", sheet_name=\"Acc_vel_loc_sinrangos\")\n",
        "df_mapa = pd.read_excel(\"/content/drive/MyDrive/proyecto_individual_2(Henry,internet)/mapa_conectividad.xlsx\", sheet_name=\"Hoja3\")\n",
        "df_portabilidad = pd.read_excel(\"/content/drive/MyDrive/proyecto_individual_2(Henry,internet)/Portabilidad.xlsx\", sheet_name=\"Portin\")\n",
        "df_postales = pd.read_excel(\"/content/drive/MyDrive/proyecto_individual_2(Henry,internet)/servicios_postales.xlsx\", sheet_name=\"ventas_postales\")\n",
        "df_telefonia_fija = pd.read_excel(\"/content/drive/MyDrive/proyecto_individual_2(Henry,internet)/telefonia_fija.xlsx\", sheet_name=\"Fija_prov_tipo\")\n",
        "df_telefonia_movil = pd.read_excel(\"/content/drive/MyDrive/proyecto_individual_2(Henry,internet)/Telefonia_movil.xlsx\", sheet_name=\"SMS\")\n",
        "df_television = pd.read_excel(\"/content/drive/MyDrive/proyecto_individual_2(Henry,internet)/Television.xlsx\", sheet_name=\"Accesos_prov_TV\")\n",
        "\n",
        "# Mostrar ejemplos de datos cargados\n",
        "print(\"Internet:\")\n",
        "print(df_internet.head())\n",
        "print(\"\\nMapa Conectividad:\")\n",
        "print(df_mapa.head())\n"
      ],
      "metadata": {
        "colab": {
          "base_uri": "https://localhost:8080/"
        },
        "id": "7YrZ-DAGB299",
        "outputId": "2fc59f01-16de-42d8-e183-5863fb740fa2"
      },
      "execution_count": 22,
      "outputs": [
        {
          "output_type": "stream",
          "name": "stdout",
          "text": [
            "Internet:\n",
            "        Partido   Localidad  link Indec Velocidad (Mbps)  Provincia  Accesos\n",
            "0  BUENOS AIRES  25 de Mayo  25 de Mayo          6854100       0.00      1.0\n",
            "1  BUENOS AIRES  25 de Mayo  25 de Mayo          6854100       0.50      2.0\n",
            "2  BUENOS AIRES  25 de Mayo  25 de Mayo          6854100       0.75     19.0\n",
            "3  BUENOS AIRES  25 de Mayo  25 de Mayo          6854100       3.00     85.0\n",
            "4  BUENOS AIRES  25 de Mayo  25 de Mayo          6854100       3.50    145.0\n",
            "\n",
            "Mapa Conectividad:\n",
            "      Provincia     Partido          Localidad  Población ADSL Cablemódem  \\\n",
            "0  BUENOS AIRES  25 de Mayo         25 de Mayo      23408   SI         SI   \n",
            "1  BUENOS AIRES  25 de Mayo    Agustín Mosconi        280   --         --   \n",
            "2  BUENOS AIRES  25 de Mayo          Del Valle        899   SI         --   \n",
            "3  BUENOS AIRES  25 de Mayo          Ernestina        145   SI         --   \n",
            "4  BUENOS AIRES  25 de Mayo  Gobernador Ugarte        547   --         --   \n",
            "\n",
            "  Dial Up Fibra óptica Satelital Wireless Telefonía Fija  3G  4G       Link  \\\n",
            "0      --           --        SI       SI             SI  SI  SI  6854100.0   \n",
            "1      --           --        --       --             SI  --  --  6854010.0   \n",
            "2      --           --        SI       --             --  SI  --  6854020.0   \n",
            "3      --           --        --       --             SI  --  --  6854030.0   \n",
            "4      --           --        --       SI             --  --  --  6854040.0   \n",
            "\n",
            "     Latitud   Longitud  \n",
            "0 -35.433939 -60.173121  \n",
            "1 -35.739217 -60.559063  \n",
            "2 -35.897345 -60.731609  \n",
            "3 -35.270234 -59.557503  \n",
            "4 -35.164397 -60.081358  \n"
          ]
        }
      ]
    },
    {
      "cell_type": "code",
      "source": [
        "# Resumen inicial de cada DataFrame\n",
        "for df, name in zip(\n",
        "    [df_internet, df_mapa, df_portabilidad, df_postales, df_telefonia_fija, df_telefonia_movil, df_television],\n",
        "    [\"Internet\", \"Mapa de Conectividad\", \"Portabilidad\", \"Servicios Postales\", \"Telefonía Fija\", \"Telefonía Móvil\", \"Televisión\"]\n",
        "):\n",
        "    print(f\"Resumen de {name}:\")\n",
        "    print(df.info())\n",
        "    print(df.describe(include='all'))  # Estadísticas básicas\n",
        "    print(\"\\n\")"
      ],
      "metadata": {
        "colab": {
          "base_uri": "https://localhost:8080/"
        },
        "id": "cB-pbWWQLFcS",
        "outputId": "f6108ff7-5982-4631-8ec5-473fdcbeda91"
      },
      "execution_count": 23,
      "outputs": [
        {
          "output_type": "stream",
          "name": "stdout",
          "text": [
            "Resumen de Internet:\n",
            "<class 'pandas.core.frame.DataFrame'>\n",
            "RangeIndex: 18864 entries, 0 to 18863\n",
            "Data columns (total 6 columns):\n",
            " #   Column            Non-Null Count  Dtype  \n",
            "---  ------            --------------  -----  \n",
            " 0   Partido           18864 non-null  object \n",
            " 1   Localidad         18864 non-null  object \n",
            " 2   link Indec        18863 non-null  object \n",
            " 3   Velocidad (Mbps)  18864 non-null  object \n",
            " 4   Provincia         18864 non-null  float64\n",
            " 5   Accesos           18857 non-null  float64\n",
            "dtypes: float64(2), object(4)\n",
            "memory usage: 884.4+ KB\n",
            "None\n",
            "             Partido           Localidad link Indec  Velocidad (Mbps)  \\\n",
            "count          18864               18864      18863           18864.0   \n",
            "unique            24                 435       2781            2665.0   \n",
            "top     BUENOS AIRES  General San Martín      OTROS         6371010.0   \n",
            "freq            7172                 460         82             367.0   \n",
            "mean             NaN                 NaN        NaN               NaN   \n",
            "std              NaN                 NaN        NaN               NaN   \n",
            "min              NaN                 NaN        NaN               NaN   \n",
            "25%              NaN                 NaN        NaN               NaN   \n",
            "50%              NaN                 NaN        NaN               NaN   \n",
            "75%              NaN                 NaN        NaN               NaN   \n",
            "max              NaN                 NaN        NaN               NaN   \n",
            "\n",
            "           Provincia        Accesos  \n",
            "count   18864.000000   18857.000000  \n",
            "unique           NaN            NaN  \n",
            "top              NaN            NaN  \n",
            "freq             NaN            NaN  \n",
            "mean       66.866042     612.828499  \n",
            "std       178.987138    6283.359677  \n",
            "min         0.000000   -5582.000000  \n",
            "25%         3.000000       3.000000  \n",
            "50%        10.000000      26.000000  \n",
            "75%        30.000000     180.000000  \n",
            "max      1024.000000  576789.000000  \n",
            "\n",
            "\n",
            "Resumen de Mapa de Conectividad:\n",
            "<class 'pandas.core.frame.DataFrame'>\n",
            "RangeIndex: 4305 entries, 0 to 4304\n",
            "Data columns (total 16 columns):\n",
            " #   Column          Non-Null Count  Dtype  \n",
            "---  ------          --------------  -----  \n",
            " 0   Provincia       4305 non-null   object \n",
            " 1   Partido         4305 non-null   object \n",
            " 2   Localidad       4305 non-null   object \n",
            " 3   Población       4305 non-null   int64  \n",
            " 4   ADSL            4305 non-null   object \n",
            " 5   Cablemódem      4305 non-null   object \n",
            " 6   Dial Up         4305 non-null   object \n",
            " 7   Fibra óptica    4305 non-null   object \n",
            " 8   Satelital       4305 non-null   object \n",
            " 9   Wireless        4305 non-null   object \n",
            " 10  Telefonía Fija  4305 non-null   object \n",
            " 11  3G              4305 non-null   object \n",
            " 12  4G              4305 non-null   object \n",
            " 13  Link            4293 non-null   float64\n",
            " 14  Latitud         4305 non-null   float64\n",
            " 15  Longitud        4305 non-null   float64\n",
            "dtypes: float64(3), int64(1), object(12)\n",
            "memory usage: 538.2+ KB\n",
            "None\n",
            "           Provincia       Partido  Localidad     Población  ADSL Cablemódem  \\\n",
            "count           4305          4305       4305  4.305000e+03  4305       4305   \n",
            "unique            24           445       3911           NaN     2          2   \n",
            "top     BUENOS AIRES  General Roca  San Pedro           NaN    --         --   \n",
            "freq             900            84         12           NaN  3185       3432   \n",
            "mean             NaN           NaN        NaN  8.707207e+03   NaN        NaN   \n",
            "std              NaN           NaN        NaN  3.824490e+04   NaN        NaN   \n",
            "min              NaN           NaN        NaN  0.000000e+00   NaN        NaN   \n",
            "25%              NaN           NaN        NaN  1.170000e+02   NaN        NaN   \n",
            "50%              NaN           NaN        NaN  5.790000e+02   NaN        NaN   \n",
            "75%              NaN           NaN        NaN  3.217000e+03   NaN        NaN   \n",
            "max              NaN           NaN        NaN  1.317298e+06   NaN        NaN   \n",
            "\n",
            "       Dial Up Fibra óptica Satelital Wireless Telefonía Fija    3G    4G  \\\n",
            "count     4305         4305      4305     4305           4305  4305  4305   \n",
            "unique       2            2         2        2              2     2     2   \n",
            "top         --           --        --       SI             --    --    SI   \n",
            "freq      3902         2726      3285     2260           2155  2359  2228   \n",
            "mean       NaN          NaN       NaN      NaN            NaN   NaN   NaN   \n",
            "std        NaN          NaN       NaN      NaN            NaN   NaN   NaN   \n",
            "min        NaN          NaN       NaN      NaN            NaN   NaN   NaN   \n",
            "25%        NaN          NaN       NaN      NaN            NaN   NaN   NaN   \n",
            "50%        NaN          NaN       NaN      NaN            NaN   NaN   NaN   \n",
            "75%        NaN          NaN       NaN      NaN            NaN   NaN   NaN   \n",
            "max        NaN          NaN       NaN      NaN            NaN   NaN   NaN   \n",
            "\n",
            "                Link      Latitud     Longitud  \n",
            "count   4.293000e+03  4305.000000  4305.000000  \n",
            "unique           NaN          NaN          NaN  \n",
            "top              NaN          NaN          NaN  \n",
            "freq             NaN          NaN          NaN  \n",
            "mean    3.908916e+07   -32.263116   -63.039292  \n",
            "std     2.939911e+07     5.001839     3.829679  \n",
            "min     2.000010e+06   -77.874009   -72.891627  \n",
            "25%     1.009104e+07   -34.708542   -65.686443  \n",
            "50%     3.400705e+07   -32.286202   -63.450636  \n",
            "75%     6.612603e+07   -28.583403   -60.009923  \n",
            "max     9.401402e+07   -21.817293   -34.626560  \n",
            "\n",
            "\n",
            "Resumen de Portabilidad:\n",
            "<class 'pandas.core.frame.DataFrame'>\n",
            "RangeIndex: 148 entries, 0 to 147\n",
            "Data columns (total 3 columns):\n",
            " #   Column         Non-Null Count  Dtype\n",
            "---  ------         --------------  -----\n",
            " 0   Año            148 non-null    int64\n",
            " 1   Mes            148 non-null    int64\n",
            " 2   Total general  148 non-null    int64\n",
            "dtypes: int64(3)\n",
            "memory usage: 3.6 KB\n",
            "None\n",
            "               Año         Mes  Total general\n",
            "count   148.000000  148.000000     148.000000\n",
            "mean   2017.837838    6.445946  159260.993243\n",
            "std       3.587685    3.437060   95330.547558\n",
            "min    2012.000000    1.000000     153.000000\n",
            "25%    2015.000000    3.750000   95727.250000\n",
            "50%    2018.000000    6.000000  144530.500000\n",
            "75%    2021.000000    9.000000  235856.750000\n",
            "max    2024.000000   12.000000  377682.000000\n",
            "\n",
            "\n",
            "Resumen de Servicios Postales:\n",
            "<class 'pandas.core.frame.DataFrame'>\n",
            "RangeIndex: 138 entries, 0 to 137\n",
            "Data columns (total 15 columns):\n",
            " #   Column                                         Non-Null Count  Dtype  \n",
            "---  ------                                         --------------  -----  \n",
            " 0   Año                                            138 non-null    int64  \n",
            " 1   Mes                                            138 non-null    object \n",
            " 2   Correo oficial  + Correos Privados (en Pesos)  138 non-null    float64\n",
            " 3   Unnamed: 3                                     0 non-null      float64\n",
            " 4   Unnamed: 4                                     0 non-null      float64\n",
            " 5   Unnamed: 5                                     0 non-null      float64\n",
            " 6   id                                             0 non-null      float64\n",
            " 7   año                                            1 non-null      float64\n",
            " 8   trimestre                                      1 non-null      float64\n",
            " 9   tipo                                           1 non-null      object \n",
            " 10  servicio                                       1 non-null      object \n",
            " 11  indicador                                      1 non-null      object \n",
            " 12  valor                                          1 non-null      float64\n",
            " 13  unidad                                         1 non-null      object \n",
            " 14  observaciones                                  1 non-null      object \n",
            "dtypes: float64(8), int64(1), object(6)\n",
            "memory usage: 16.3+ KB\n",
            "None\n",
            "                Año    Mes  Correo oficial  + Correos Privados (en Pesos)  \\\n",
            "count    138.000000    138                                   1.380000e+02   \n",
            "unique          NaN     12                                            NaN   \n",
            "top             NaN  Junio                                            NaN   \n",
            "freq            NaN     12                                            NaN   \n",
            "mean    2018.260870    NaN                                   9.755493e+09   \n",
            "std        3.338133    NaN                                   1.866054e+10   \n",
            "min     2013.000000    NaN                                   5.535478e+08   \n",
            "25%     2015.000000    NaN                                   1.465624e+09   \n",
            "50%     2018.000000    NaN                                   2.708457e+09   \n",
            "75%     2021.000000    NaN                                   7.247625e+09   \n",
            "max     2024.000000    NaN                                   1.021353e+11   \n",
            "\n",
            "        Unnamed: 3  Unnamed: 4  Unnamed: 5   id     año  trimestre  \\\n",
            "count          0.0         0.0         0.0  0.0     1.0        1.0   \n",
            "unique         NaN         NaN         NaN  NaN     NaN        NaN   \n",
            "top            NaN         NaN         NaN  NaN     NaN        NaN   \n",
            "freq           NaN         NaN         NaN  NaN     NaN        NaN   \n",
            "mean           NaN         NaN         NaN  NaN  2024.0        2.0   \n",
            "std            NaN         NaN         NaN  NaN     NaN        NaN   \n",
            "min            NaN         NaN         NaN  NaN  2024.0        2.0   \n",
            "25%            NaN         NaN         NaN  NaN  2024.0        2.0   \n",
            "50%            NaN         NaN         NaN  NaN  2024.0        2.0   \n",
            "75%            NaN         NaN         NaN  NaN  2024.0        2.0   \n",
            "max            NaN         NaN         NaN  NaN  2024.0        2.0   \n",
            "\n",
            "                         tipo            servicio          indicador  \\\n",
            "count                       1                   1                  1   \n",
            "unique                      1                   1                  1   \n",
            "top     Información Económica  Servicios Postales  Ingresos Postales   \n",
            "freq                        1                   1                  1   \n",
            "mean                      NaN                 NaN                NaN   \n",
            "std                       NaN                 NaN                NaN   \n",
            "min                       NaN                 NaN                NaN   \n",
            "25%                       NaN                 NaN                NaN   \n",
            "50%                       NaN                 NaN                NaN   \n",
            "75%                       NaN                 NaN                NaN   \n",
            "max                       NaN                 NaN                NaN   \n",
            "\n",
            "               valor      unidad          observaciones  \n",
            "count   1.000000e+00           1                      1  \n",
            "unique           NaN           1                      1  \n",
            "top              NaN  Miles de $  Información acumulada  \n",
            "freq             NaN           1                      1  \n",
            "mean    4.996840e+11         NaN                    NaN  \n",
            "std              NaN         NaN                    NaN  \n",
            "min     4.996840e+11         NaN                    NaN  \n",
            "25%     4.996840e+11         NaN                    NaN  \n",
            "50%     4.996840e+11         NaN                    NaN  \n",
            "75%     4.996840e+11         NaN                    NaN  \n",
            "max     4.996840e+11         NaN                    NaN  \n",
            "\n",
            "\n",
            "Resumen de Telefonía Fija:\n",
            "<class 'pandas.core.frame.DataFrame'>\n",
            "RangeIndex: 1008 entries, 0 to 1007\n",
            "Data columns (total 8 columns):\n",
            " #   Column                              Non-Null Count  Dtype \n",
            "---  ------                              --------------  ----- \n",
            " 0   Año                                 1008 non-null   int64 \n",
            " 1   Trimestre                           1008 non-null   int64 \n",
            " 2   Provincia                           1008 non-null   object\n",
            " 3   Accesos telefonía fija (total)      1008 non-null   int64 \n",
            " 4   Accesos telefonía fija (hogares)    1008 non-null   int64 \n",
            " 5   Accesos telefonía fija (comercial)  1008 non-null   int64 \n",
            " 6   Accesos telefonía fija (gobierno)   1008 non-null   int64 \n",
            " 7   Accesos telefonía fija (otros)      1008 non-null   int64 \n",
            "dtypes: int64(7), object(1)\n",
            "memory usage: 63.1+ KB\n",
            "None\n",
            "                Año    Trimestre     Provincia  \\\n",
            "count   1008.000000  1008.000000          1008   \n",
            "unique          NaN          NaN            24   \n",
            "top             NaN          NaN  Buenos Aires   \n",
            "freq            NaN          NaN            42   \n",
            "mean    2018.761905     2.452381           NaN   \n",
            "std        3.039439     1.117574           NaN   \n",
            "min     2014.000000     1.000000           NaN   \n",
            "25%     2016.000000     1.000000           NaN   \n",
            "50%     2019.000000     2.000000           NaN   \n",
            "75%     2021.000000     3.000000           NaN   \n",
            "max     2024.000000     4.000000           NaN   \n",
            "\n",
            "        Accesos telefonía fija (total)  Accesos telefonía fija (hogares)  \\\n",
            "count                     1.008000e+03                      1.008000e+03   \n",
            "unique                             NaN                               NaN   \n",
            "top                                NaN                               NaN   \n",
            "freq                               NaN                               NaN   \n",
            "mean                      3.567824e+05                      3.121301e+05   \n",
            "std                       8.245072e+05                      7.188757e+05   \n",
            "min                       1.475200e+04                      1.309300e+04   \n",
            "25%                       5.061250e+04                      4.310450e+04   \n",
            "50%                       8.635550e+04                      7.684550e+04   \n",
            "75%                       1.877165e+05                      1.674970e+05   \n",
            "max                       4.916108e+06                      4.280149e+06   \n",
            "\n",
            "        Accesos telefonía fija (comercial)  Accesos telefonía fija (gobierno)  \\\n",
            "count                          1008.000000                        1008.000000   \n",
            "unique                                 NaN                                NaN   \n",
            "top                                    NaN                                NaN   \n",
            "freq                                   NaN                                NaN   \n",
            "mean                          30468.440476                        1396.330357   \n",
            "std                           71893.667408                        3197.632976   \n",
            "min                            1252.000000                          57.000000   \n",
            "25%                            4266.250000                         189.250000   \n",
            "50%                            7175.500000                         359.000000   \n",
            "75%                           15132.750000                         757.500000   \n",
            "max                          540095.000000                       18514.000000   \n",
            "\n",
            "        Accesos telefonía fija (otros)  \n",
            "count                      1008.000000  \n",
            "unique                             NaN  \n",
            "top                                NaN  \n",
            "freq                               NaN  \n",
            "mean                      12787.511905  \n",
            "std                       36036.816126  \n",
            "min                         197.000000  \n",
            "25%                        1159.000000  \n",
            "50%                        2611.500000  \n",
            "75%                        6603.000000  \n",
            "max                      265115.000000  \n",
            "\n",
            "\n",
            "Resumen de Telefonía Móvil:\n",
            "<class 'pandas.core.frame.DataFrame'>\n",
            "RangeIndex: 46 entries, 0 to 45\n",
            "Data columns (total 4 columns):\n",
            " #   Column                   Non-Null Count  Dtype \n",
            "---  ------                   --------------  ----- \n",
            " 0   Año                      46 non-null     int64 \n",
            " 1   Trimestre                46 non-null     int64 \n",
            " 2   Número de SMS salientes  46 non-null     int64 \n",
            " 3   Periodo                  46 non-null     object\n",
            "dtypes: int64(3), object(1)\n",
            "memory usage: 1.6+ KB\n",
            "None\n",
            "                Año  Trimestre  Número de SMS salientes       Periodo\n",
            "count     46.000000  46.000000             4.600000e+01            46\n",
            "unique          NaN        NaN                      NaN            45\n",
            "top             NaN        NaN                      NaN  Ene-Mar 2013\n",
            "freq            NaN        NaN                      NaN             2\n",
            "mean    2018.260870   2.456522             7.355705e+09           NaN\n",
            "std        3.362769   1.129533             9.087223e+09           NaN\n",
            "min     2013.000000   1.000000             4.940139e+08           NaN\n",
            "25%     2015.250000   1.250000             9.626339e+08           NaN\n",
            "50%     2018.000000   2.000000             3.818662e+09           NaN\n",
            "75%     2021.000000   3.000000             1.032229e+10           NaN\n",
            "max     2024.000000   4.000000             3.643000e+10           NaN\n",
            "\n",
            "\n",
            "Resumen de Televisión:\n",
            "<class 'pandas.core.frame.DataFrame'>\n",
            "RangeIndex: 1008 entries, 0 to 1007\n",
            "Data columns (total 4 columns):\n",
            " #   Column                            Non-Null Count  Dtype \n",
            "---  ------                            --------------  ----- \n",
            " 0   Año                               1008 non-null   int64 \n",
            " 1   Trimestre                         1008 non-null   int64 \n",
            " 2   Provincia                         1008 non-null   object\n",
            " 3   Accesos TV por suscripción (Vrf)  1008 non-null   int64 \n",
            "dtypes: int64(3), object(1)\n",
            "memory usage: 31.6+ KB\n",
            "None\n",
            "                Año    Trimestre     Provincia  \\\n",
            "count   1008.000000  1008.000000          1008   \n",
            "unique          NaN          NaN            26   \n",
            "top             NaN          NaN  Buenos Aires   \n",
            "freq            NaN          NaN            42   \n",
            "mean    2018.761905     2.452381           NaN   \n",
            "std        3.039439     1.117574           NaN   \n",
            "min     2014.000000     1.000000           NaN   \n",
            "25%     2016.000000     1.000000           NaN   \n",
            "50%     2019.000000     2.000000           NaN   \n",
            "75%     2021.000000     3.000000           NaN   \n",
            "max     2024.000000     4.000000           NaN   \n",
            "\n",
            "        Accesos TV por suscripción (Vrf)  \n",
            "count                       1.008000e+03  \n",
            "unique                               NaN  \n",
            "top                                  NaN  \n",
            "freq                                 NaN  \n",
            "mean                        2.936286e+05  \n",
            "std                         5.735723e+05  \n",
            "min                         1.686900e+04  \n",
            "25%                         5.489825e+04  \n",
            "50%                         9.898000e+04  \n",
            "75%                         1.547750e+05  \n",
            "max                         3.129739e+06  \n",
            "\n",
            "\n"
          ]
        }
      ]
    },
    {
      "cell_type": "code",
      "source": [
        "# Verificar valores faltantes en cada tabla\n",
        "for df, name in zip(\n",
        "    [df_internet, df_mapa, df_portabilidad, df_postales, df_telefonia_fija, df_telefonia_movil, df_television],\n",
        "    [\"Internet\", \"Mapa de Conectividad\", \"Portabilidad\", \"Servicios Postales\", \"Telefonía Fija\", \"Telefonía Móvil\", \"Televisión\"]\n",
        "):\n",
        "    print(f\"Valores faltantes en {name}:\")\n",
        "    print(df.isnull().sum())\n",
        "    print(\"\\n\")"
      ],
      "metadata": {
        "colab": {
          "base_uri": "https://localhost:8080/"
        },
        "id": "ig9APbLILIGB",
        "outputId": "991895ea-4f62-44cb-d13e-3913ed42f754"
      },
      "execution_count": 24,
      "outputs": [
        {
          "output_type": "stream",
          "name": "stdout",
          "text": [
            "Valores faltantes en Internet:\n",
            "Partido             0\n",
            "Localidad           0\n",
            "link Indec          1\n",
            "Velocidad (Mbps)    0\n",
            "Provincia           0\n",
            "Accesos             7\n",
            "dtype: int64\n",
            "\n",
            "\n",
            "Valores faltantes en Mapa de Conectividad:\n",
            "Provincia          0\n",
            "Partido            0\n",
            "Localidad          0\n",
            "Población          0\n",
            "ADSL               0\n",
            "Cablemódem         0\n",
            "Dial Up            0\n",
            "Fibra óptica       0\n",
            "Satelital          0\n",
            "Wireless           0\n",
            "Telefonía Fija     0\n",
            "3G                 0\n",
            "4G                 0\n",
            "Link              12\n",
            "Latitud            0\n",
            "Longitud           0\n",
            "dtype: int64\n",
            "\n",
            "\n",
            "Valores faltantes en Portabilidad:\n",
            "Año              0\n",
            "Mes              0\n",
            "Total general    0\n",
            "dtype: int64\n",
            "\n",
            "\n",
            "Valores faltantes en Servicios Postales:\n",
            "Año                                                0\n",
            "Mes                                                0\n",
            "Correo oficial  + Correos Privados (en Pesos)      0\n",
            "Unnamed: 3                                       138\n",
            "Unnamed: 4                                       138\n",
            "Unnamed: 5                                       138\n",
            "id                                               138\n",
            "año                                              137\n",
            "trimestre                                        137\n",
            "tipo                                             137\n",
            "servicio                                         137\n",
            "indicador                                        137\n",
            "valor                                            137\n",
            "unidad                                           137\n",
            "observaciones                                    137\n",
            "dtype: int64\n",
            "\n",
            "\n",
            "Valores faltantes en Telefonía Fija:\n",
            "Año                                   0\n",
            "Trimestre                             0\n",
            "Provincia                             0\n",
            "Accesos telefonía fija (total)        0\n",
            "Accesos telefonía fija (hogares)      0\n",
            "Accesos telefonía fija (comercial)    0\n",
            "Accesos telefonía fija (gobierno)     0\n",
            "Accesos telefonía fija (otros)        0\n",
            "dtype: int64\n",
            "\n",
            "\n",
            "Valores faltantes en Telefonía Móvil:\n",
            "Año                        0\n",
            "Trimestre                  0\n",
            "Número de SMS salientes    0\n",
            "Periodo                    0\n",
            "dtype: int64\n",
            "\n",
            "\n",
            "Valores faltantes en Televisión:\n",
            "Año                                 0\n",
            "Trimestre                           0\n",
            "Provincia                           0\n",
            "Accesos TV por suscripción (Vrf)    0\n",
            "dtype: int64\n",
            "\n",
            "\n"
          ]
        }
      ]
    },
    {
      "cell_type": "code",
      "source": [
        "sns.heatmap(df_internet.isnull(), cbar=False, cmap=\"viridis\")\n",
        "plt.title(\"Valores faltantes en Internet\")\n",
        "plt.show()"
      ],
      "metadata": {
        "colab": {
          "base_uri": "https://localhost:8080/",
          "height": 557
        },
        "id": "jAozZ2z8LM8x",
        "outputId": "a65ba5a0-e50b-4d5c-cf09-fd41e41eeba1"
      },
      "execution_count": 25,
      "outputs": [
        {
          "output_type": "display_data",
          "data": {
            "text/plain": [
              "<Figure size 640x480 with 1 Axes>"
            ],
            "image/png": "[encoded data removed]"
          },
          "metadata": {}
        }
      ]
    },
    {
      "cell_type": "code",
      "source": [
        "# Verificar registros duplicados\n",
        "for df, name in zip(\n",
        "    [df_internet, df_mapa, df_portabilidad, df_postales, df_telefonia_fija, df_telefonia_movil, df_television],\n",
        "    [\"Internet\", \"Mapa de Conectividad\", \"Portabilidad\", \"Servicios Postales\", \"Telefonía Fija\", \"Telefonía Móvil\", \"Televisión\"]\n",
        "):\n",
        "    duplicates = df.duplicated().sum()\n",
        "    print(f\"Registros duplicados en {name}: {duplicates}\")\n"
      ],
      "metadata": {
        "colab": {
          "base_uri": "https://localhost:8080/"
        },
        "id": "765NHLUCLUJp",
        "outputId": "c19ff7fd-0770-4c2b-aa77-7595028cb30e"
      },
      "execution_count": 26,
      "outputs": [
        {
          "output_type": "stream",
          "name": "stdout",
          "text": [
            "Registros duplicados en Internet: 0\n",
            "Registros duplicados en Mapa de Conectividad: 0\n",
            "Registros duplicados en Portabilidad: 0\n",
            "Registros duplicados en Servicios Postales: 0\n",
            "Registros duplicados en Telefonía Fija: 0\n",
            "Registros duplicados en Telefonía Móvil: 0\n",
            "Registros duplicados en Televisión: 0\n"
          ]
        }
      ]
    },
    {
      "cell_type": "code",
      "source": [
        "# Eliminar duplicados\n",
        "df_internet = df_internet.drop_duplicates()\n"
      ],
      "metadata": {
        "id": "aTIgGcYGLfM5"
      },
      "execution_count": 27,
      "outputs": []
    },
    {
      "cell_type": "code",
      "source": [
        "# Identificar valores atípicos con boxplots\n",
        "numerical_columns = df_internet.select_dtypes(include=np.number).columns\n",
        "for col in numerical_columns:\n",
        "    sns.boxplot(df_internet[col])\n",
        "    plt.title(f\"Outliers en {col}\")\n",
        "    plt.show()\n"
      ],
      "metadata": {
        "colab": {
          "base_uri": "https://localhost:8080/",
          "height": 849
        },
        "id": "HJZzxs75WyIA",
        "outputId": "97383d3b-8196-4e33-877c-2841bbad2c9a"
      },
      "execution_count": 28,
      "outputs": [
        {
          "output_type": "display_data",
          "data": {
            "text/plain": [
              "<Figure size 640x480 with 1 Axes>"
            ],
            "image/png": "[encoded data removed]"
          },
          "metadata": {}
        },
        {
          "output_type": "display_data",
          "data": {
            "text/plain": [
              "<Figure size 640x480 with 1 Axes>"
            ],
            "image/png": "[encoded data removed]"
          },
          "metadata": {}
        }
      ]
    },
    {
      "cell_type": "code",
      "source": [
        "print(df_telefonia_fija.columns)\n"
      ],
      "metadata": {
        "colab": {
          "base_uri": "https://localhost:8080/"
        },
        "id": "mx4xlfNjkoyh",
        "outputId": "71660c5a-1d47-422f-a38f-0d8e745a6632"
      },
      "execution_count": 30,
      "outputs": [
        {
          "output_type": "stream",
          "name": "stdout",
          "text": [
            "Index(['Año', 'Trimestre', 'Provincia', 'Accesos_telefonía_fija_total',\n",
            "       'Accesos_telefonía_fija_hogares', 'Accesos_telefonía_fija_comercial',\n",
            "       'Accesos_telefonía_fija_gobierno', 'Accesos_telefonía_fija_otros'],\n",
            "      dtype='object')\n"
          ]
        }
      ]
    },
    {
      "cell_type": "code",
      "source": [
        "# Renombrar columnas si es necesario\n",
        "df_telefonia_fija.columns = df_telefonia_fija.columns.str.strip().str.replace(\" \", \"_\").str.replace(r\"[()]+\", \"\", regex=True)\n",
        "\n",
        "# Verificar nombres de columnas tras limpieza\n",
        "print(df_telefonia_fija.columns)\n",
        "\n",
        "# Usar el nombre correcto tras la limpieza\n",
        "df_telefonia_fija[\"Accesos_telefonía_fija_total\"] = pd.to_numeric(df_telefonia_fija[\"Accesos_telefonía_fija_total\"], errors=\"coerce\")\n"
      ],
      "metadata": {
        "colab": {
          "base_uri": "https://localhost:8080/"
        },
        "id": "g8ITajXCksaR",
        "outputId": "109a6bc9-dd6e-44ca-d7a0-8d9fe36891ce"
      },
      "execution_count": 31,
      "outputs": [
        {
          "output_type": "stream",
          "name": "stdout",
          "text": [
            "Index(['Año', 'Trimestre', 'Provincia', 'Accesos_telefonía_fija_total',\n",
            "       'Accesos_telefonía_fija_hogares', 'Accesos_telefonía_fija_comercial',\n",
            "       'Accesos_telefonía_fija_gobierno', 'Accesos_telefonía_fija_otros'],\n",
            "      dtype='object')\n"
          ]
        }
      ]
    },
    {
      "cell_type": "code",
      "source": [
        "if \"Accesos_telefonía_fija_(total)\" in df_telefonia_fija.columns:\n",
        "    print(\"La columna existe\")\n",
        "else:\n",
        "    print(\"La columna no existe\")\n"
      ],
      "metadata": {
        "colab": {
          "base_uri": "https://localhost:8080/"
        },
        "id": "vZQ600AWk3tJ",
        "outputId": "eeb051d0-fb34-4e87-9743-b70488c021d7"
      },
      "execution_count": 34,
      "outputs": [
        {
          "output_type": "stream",
          "name": "stdout",
          "text": [
            "La columna no existe\n"
          ]
        }
      ]
    },
    {
      "cell_type": "code",
      "source": [
        "print(df_telefonia_fija.head())\n"
      ],
      "metadata": {
        "colab": {
          "base_uri": "https://localhost:8080/"
        },
        "id": "NM6RCJHflMqC",
        "outputId": "1261dd87-fb38-4f26-e992-443e161bc365"
      },
      "execution_count": 35,
      "outputs": [
        {
          "output_type": "stream",
          "name": "stdout",
          "text": [
            "    Año  Trimestre        Provincia  Accesos_telefonía_fija_total  \\\n",
            "0  2024          2     Buenos Aires                       3147886   \n",
            "1  2024          2  Capital Federal                       1651854   \n",
            "2  2024          2        Catamarca                         20365   \n",
            "3  2024          2            Chaco                         53967   \n",
            "4  2024          2           Chubut                         54140   \n",
            "\n",
            "   Accesos_telefonía_fija_hogares  Accesos_telefonía_fija_comercial  \\\n",
            "0                         2793773                            299661   \n",
            "1                         1466033                            157247   \n",
            "2                           18074                              1939   \n",
            "3                           47897                              5137   \n",
            "4                           48049                              5154   \n",
            "\n",
            "   Accesos_telefonía_fija_gobierno  Accesos_telefonía_fija_otros  \n",
            "0                            12436                         42016  \n",
            "1                             6526                         22048  \n",
            "2                               80                           272  \n",
            "3                              213                           720  \n",
            "4                              214                           723  \n"
          ]
        }
      ]
    },
    {
      "cell_type": "code",
      "source": [
        "print(df_television.columns)\n"
      ],
      "metadata": {
        "colab": {
          "base_uri": "https://localhost:8080/"
        },
        "id": "QwUBf0qAlqw7",
        "outputId": "eb69d878-b980-4102-c010-8608e029080e"
      },
      "execution_count": 37,
      "outputs": [
        {
          "output_type": "stream",
          "name": "stdout",
          "text": [
            "Index(['Año', 'Trimestre', 'Provincia', 'Accesos_TV_por_suscripción_Vrf'], dtype='object')\n"
          ]
        }
      ]
    },
    {
      "cell_type": "code",
      "source": [
        "# Normalizar nombres de columnas eliminando espacios y caracteres especiales\n",
        "df_internet.columns = df_internet.columns.str.strip().str.replace(\" \", \"_\").str.replace(r\"[()]+\", \"\", regex=True)\n",
        "df_mapa.columns = df_mapa.columns.str.strip().str.replace(\" \", \"_\").str.replace(r\"[()]+\", \"\", regex=True)\n",
        "df_portabilidad.columns = df_portabilidad.columns.str.strip().str.replace(\" \", \"_\").str.replace(r\"[()]+\", \"\", regex=True)\n",
        "df_postales.columns = df_postales.columns.str.strip().str.replace(\" \", \"_\").str.replace(r\"[()]+\", \"\", regex=True)\n",
        "df_telefonia_fija.columns = df_telefonia_fija.columns.str.strip().str.replace(\" \", \"_\").str.replace(r\"[()]+\", \"\", regex=True)\n",
        "df_telefonia_movil.columns = df_telefonia_movil.columns.str.strip().str.replace(\" \", \"_\").str.replace(r\"[()]+\", \"\", regex=True)\n",
        "df_television.columns = df_television.columns.str.strip().str.replace(\" \", \"_\").str.replace(r\"[()]+\", \"\", regex=True)\n",
        "\n",
        "# Gestionar valores nulos\n",
        "df_internet.fillna({\"Velocidad_Mbps\": 0, \"Accesos\": 0}, inplace=True)\n",
        "df_mapa.fillna({\"Latitud\": 0, \"Longitud\": 0}, inplace=True)\n",
        "df_postales = df_postales.dropna(how=\"all\", axis=1)  # Eliminar columnas completamente vacías\n",
        "df_portabilidad.fillna(0, inplace=True)\n",
        "df_telefonia_fija.fillna(0, inplace=True)\n",
        "df_telefonia_movil.fillna(0, inplace=True)\n",
        "df_television.fillna(0, inplace=True)\n",
        "\n",
        "# Convertir columnas relevantes a tipo numérico\n",
        "df_internet[\"Velocidad_Mbps\"] = pd.to_numeric(df_internet[\"Velocidad_Mbps\"], errors=\"coerce\")\n",
        "df_internet[\"Accesos\"] = pd.to_numeric(df_internet[\"Accesos\"], errors=\"coerce\")\n",
        "df_mapa[\"Población\"] = pd.to_numeric(df_mapa[\"Población\"], errors=\"coerce\")\n",
        "df_telefonia_fija[\"Accesos_telefonía_fija_total\"] = pd.to_numeric(df_telefonia_fija[\"Accesos_telefonía_fija_total\"], errors=\"coerce\")\n",
        "df_telefonia_movil[\"Número_de_SMS_salientes\"] = pd.to_numeric(df_telefonia_movil[\"Número_de_SMS_salientes\"], errors=\"coerce\")\n",
        "df_television[\"Accesos_TV_por_suscripción_Vrf\"] = pd.to_numeric(df_television[\"Accesos_TV_por_suscripción_Vrf\"], errors=\"coerce\")\n",
        "\n",
        "# Crear filtros o agrupamientos según necesidad (ejemplo)\n",
        "agrupado_provincia = df_internet.groupby(\"Provincia\")[[\"Accesos\", \"Velocidad_Mbps\"]].mean()\n",
        "\n",
        "print(agrupado_provincia)"
      ],
      "metadata": {
        "colab": {
          "base_uri": "https://localhost:8080/"
        },
        "id": "sr0p8TSRZIHI",
        "outputId": "b668a2bd-20de-41e5-8a6f-977ea58b421f"
      },
      "execution_count": 38,
      "outputs": [
        {
          "output_type": "stream",
          "name": "stdout",
          "text": [
            "              Accesos  Velocidad_Mbps\n",
            "Provincia                            \n",
            "0.000      403.508274    3.473021e+07\n",
            "0.256        2.365079    4.177045e+07\n",
            "0.500       41.783489    3.533955e+07\n",
            "0.512        2.143898    4.578760e+07\n",
            "0.750       39.588028    2.127193e+07\n",
            "...               ...             ...\n",
            "850.000      1.000000    1.401401e+07\n",
            "900.000    110.000000    6.200709e+07\n",
            "999.000      3.352941    1.939510e+07\n",
            "1000.000   539.558962    2.285481e+07\n",
            "1024.000     1.000000    0.000000e+00\n",
            "\n",
            "[118 rows x 2 columns]\n"
          ]
        }
      ]
    },
    {
      "cell_type": "code",
      "source": [
        "print(df_internet.columns)\n"
      ],
      "metadata": {
        "colab": {
          "base_uri": "https://localhost:8080/"
        },
        "id": "9kc3KaSMmvSt",
        "outputId": "4b5de833-6733-4f8e-f31d-21616c1a99b5"
      },
      "execution_count": 40,
      "outputs": [
        {
          "output_type": "stream",
          "name": "stdout",
          "text": [
            "Index(['Partido', 'Localidad', 'link_Indec', 'Velocidad_Mbps', 'Provincia',\n",
            "       'Accesos'],\n",
            "      dtype='object')\n"
          ]
        }
      ]
    },
    {
      "cell_type": "code",
      "source": [
        "# Distribución de una variable cuantitativa\n",
        "sns.histplot(df_internet['Accesos'], bins=30, kde=True)\n",
        "plt.title(\"Distribución de accesos a Internet\")\n",
        "plt.show()\n"
      ],
      "metadata": {
        "colab": {
          "base_uri": "https://localhost:8080/",
          "height": 472
        },
        "id": "B4MWU-qnXAwQ",
        "outputId": "b0540dfa-ea5c-4ee7-c013-6c7bfae6862f"
      },
      "execution_count": 41,
      "outputs": [
        {
          "output_type": "display_data",
          "data": {
            "text/plain": [
              "<Figure size 640x480 with 1 Axes>"
            ],
            "image/png": "[encoded data removed]"
          },
          "metadata": {}
        }
      ]
    },
    {
      "cell_type": "code",
      "source": [
        "print(df_postales.columns.duplicated())\n",
        "print(df_postales.columns[df_postales.columns.duplicated()])\n"
      ],
      "metadata": {
        "colab": {
          "base_uri": "https://localhost:8080/"
        },
        "id": "2AUmSXOynN6W",
        "outputId": "beb80106-6269-48e5-8b16-8047f1b861e4"
      },
      "execution_count": 44,
      "outputs": [
        {
          "output_type": "stream",
          "name": "stdout",
          "text": [
            "[False False False False False False False False False False False]\n",
            "Index([], dtype='object')\n"
          ]
        }
      ]
    },
    {
      "cell_type": "code",
      "source": [
        "df_postales.to_sql(\"ServiciosPostales_new\", conn, if_exists=\"replace\", index=False)\n"
      ],
      "metadata": {
        "colab": {
          "base_uri": "https://localhost:8080/"
        },
        "id": "trGi4xFdni2W",
        "outputId": "3284fc5e-f6d0-40ed-f12b-f81188f7bfbb"
      },
      "execution_count": 53,
      "outputs": [
        {
          "output_type": "execute_result",
          "data": {
            "text/plain": [
              "138"
            ]
          },
          "metadata": {},
          "execution_count": 53
        }
      ]
    },
    {
      "cell_type": "code",
      "source": [
        "cursor = conn.cursor()\n",
        "cursor.execute(\"DROP TABLE IF EXISTS ServiciosPostales;\")\n",
        "conn.commit()\n",
        "\n",
        "# Luego guarda los datos\n",
        "df_postales.to_sql(\"ServiciosPostales\", conn, if_exists=\"replace\", index=False)\n"
      ],
      "metadata": {
        "colab": {
          "base_uri": "https://localhost:8080/"
        },
        "id": "cyzQzpKvnpRH",
        "outputId": "956871e1-6f6c-478a-87bb-5c203feadda5"
      },
      "execution_count": 54,
      "outputs": [
        {
          "output_type": "execute_result",
          "data": {
            "text/plain": [
              "138"
            ]
          },
          "metadata": {},
          "execution_count": 54
        }
      ]
    },
    {
      "cell_type": "code",
      "source": [
        "print(df_postales.columns)\n"
      ],
      "metadata": {
        "colab": {
          "base_uri": "https://localhost:8080/"
        },
        "id": "IWrDwIy8n2Ie",
        "outputId": "37d159d2-604c-4d3f-acbb-83c3aec5f6c1"
      },
      "execution_count": 47,
      "outputs": [
        {
          "output_type": "stream",
          "name": "stdout",
          "text": [
            "Index(['Año', 'Mes', 'Correo_oficial__+_Correos_Privados_en_Pesos', 'año',\n",
            "       'trimestre', 'tipo', 'servicio', 'indicador', 'valor', 'unidad',\n",
            "       'observaciones'],\n",
            "      dtype='object')\n"
          ]
        }
      ]
    },
    {
      "cell_type": "code",
      "source": [
        "df_postales = df_postales.rename(columns={\"año\": \"año_duplicado\"})\n"
      ],
      "metadata": {
        "id": "1Rg1N7EdoJDH"
      },
      "execution_count": 48,
      "outputs": []
    },
    {
      "cell_type": "code",
      "source": [
        "print(df_postales.columns)\n"
      ],
      "metadata": {
        "colab": {
          "base_uri": "https://localhost:8080/"
        },
        "id": "tar6FVRyoKqn",
        "outputId": "bc940eae-a23f-48b1-bda1-f4aed80f720b"
      },
      "execution_count": 49,
      "outputs": [
        {
          "output_type": "stream",
          "name": "stdout",
          "text": [
            "Index(['Año', 'Mes', 'Correo_oficial__+_Correos_Privados_en_Pesos',\n",
            "       'año_duplicado', 'trimestre', 'tipo', 'servicio', 'indicador', 'valor',\n",
            "       'unidad', 'observaciones'],\n",
            "      dtype='object')\n"
          ]
        }
      ]
    },
    {
      "cell_type": "code",
      "source": [
        "df_postales.to_sql(\"ServiciosPostales\", conn, if_exists=\"replace\", index=False)\n"
      ],
      "metadata": {
        "colab": {
          "base_uri": "https://localhost:8080/"
        },
        "id": "1W5uNed0oWRQ",
        "outputId": "795b939c-b8ef-471d-ae5a-ea155cdbcb42"
      },
      "execution_count": 50,
      "outputs": [
        {
          "output_type": "execute_result",
          "data": {
            "text/plain": [
              "138"
            ]
          },
          "metadata": {},
          "execution_count": 50
        }
      ]
    },
    {
      "cell_type": "code",
      "source": [
        "# Crear tablas en SQLite e insertar datos\n",
        "df_internet.to_sql(\"Internet\", conn, if_exists=\"replace\", index=False)\n",
        "df_mapa.to_sql(\"MapaConectividad\", conn, if_exists=\"replace\", index=False)\n",
        "df_portabilidad.to_sql(\"Portabilidad\", conn, if_exists=\"replace\", index=False)\n",
        "df_postales.to_sql(\"ServiciosPostales\", conn, if_exists=\"replace\", index=False)\n",
        "df_telefonia_fija.to_sql(\"TelefoniaFija\", conn, if_exists=\"replace\", index=False)\n",
        "df_telefonia_movil.to_sql(\"TelefoniaMovil\", conn, if_exists=\"replace\", index=False)\n",
        "df_television.to_sql(\"Television\", conn, if_exists=\"replace\", index=False)\n",
        "\n",
        "# Verificar las tablas creadas\n",
        "cursor.execute(\"SELECT name FROM sqlite_master WHERE type='table';\")\n",
        "print(\"Tablas en la base de datos:\", cursor.fetchall())"
      ],
      "metadata": {
        "colab": {
          "base_uri": "https://localhost:8080/"
        },
        "id": "JX1O6YNKCYZc",
        "outputId": "08279b65-7dc7-45d4-ff7e-69a90a12c7e6"
      },
      "execution_count": 51,
      "outputs": [
        {
          "output_type": "stream",
          "name": "stdout",
          "text": [
            "Tablas en la base de datos: [('Internet',), ('MapaConectividad',), ('Portabilidad',), ('ServiciosPostales',), ('TelefoniaFija',), ('TelefoniaMovil',), ('Television',)]\n"
          ]
        }
      ]
    },
    {
      "cell_type": "code",
      "source": [
        "# Ejemplo: Consultar las primeras 5 filas de la tabla Internet\n",
        "query = \"SELECT * FROM Internet LIMIT 5;\"\n",
        "result = pd.read_sql(query, conn)\n",
        "\n",
        "print(result)\n"
      ],
      "metadata": {
        "colab": {
          "base_uri": "https://localhost:8080/"
        },
        "id": "B8y32j4ICeQF",
        "outputId": "4a71f6a9-a46d-4671-e80e-0a2715184639"
      },
      "execution_count": 52,
      "outputs": [
        {
          "output_type": "stream",
          "name": "stdout",
          "text": [
            "        Partido   Localidad  link_Indec  Velocidad_Mbps  Provincia  Accesos\n",
            "0  BUENOS AIRES  25 de Mayo  25 de Mayo       6854100.0       0.00      1.0\n",
            "1  BUENOS AIRES  25 de Mayo  25 de Mayo       6854100.0       0.50      2.0\n",
            "2  BUENOS AIRES  25 de Mayo  25 de Mayo       6854100.0       0.75     19.0\n",
            "3  BUENOS AIRES  25 de Mayo  25 de Mayo       6854100.0       3.00     85.0\n",
            "4  BUENOS AIRES  25 de Mayo  25 de Mayo       6854100.0       3.50    145.0\n"
          ]
        }
      ]
    },
    {
      "cell_type": "code",
      "source": [
        "# Ejemplo de consulta SQL en la tabla Portabilidad\n",
        "query_portabilidad = \"SELECT * FROM Portabilidad LIMIT 5;\"\n",
        "result_portabilidad = pd.read_sql(query_portabilidad, conn)\n",
        "print(result_portabilidad)\n"
      ],
      "metadata": {
        "colab": {
          "base_uri": "https://localhost:8080/"
        },
        "id": "jqmd3QO7s41w",
        "outputId": "b49cf79c-d44a-4713-b821-02735d4b4db9"
      },
      "execution_count": 55,
      "outputs": [
        {
          "output_type": "stream",
          "name": "stdout",
          "text": [
            "    Año  Mes  Total_general\n",
            "0  2024    6         178024\n",
            "1  2024    5         178256\n",
            "2  2024    4         155812\n",
            "3  2024    3         149604\n",
            "4  2024    2         145787\n"
          ]
        }
      ]
    },
    {
      "cell_type": "code",
      "source": [
        "# Relación entre Accesos y Velocidad en Internet\n",
        "sns.scatterplot(x=df_internet['Accesos'], y=df_internet['Velocidad_Mbps'])\n",
        "plt.title('Relación entre Accesos y Velocidad de Internet')\n",
        "plt.xlabel('Accesos')\n",
        "plt.ylabel('Velocidad (Mbps)')\n",
        "plt.show()\n"
      ],
      "metadata": {
        "colab": {
          "base_uri": "https://localhost:8080/",
          "height": 472
        },
        "id": "aIQC7ClVs85Q",
        "outputId": "0d0e15c9-53b2-43e9-c3b3-ffea9766adc6"
      },
      "execution_count": 56,
      "outputs": [
        {
          "output_type": "display_data",
          "data": {
            "text/plain": [
              "<Figure size 640x480 with 1 Axes>"
            ],
            "image/png": "[encoded data removed]"
          },
          "metadata": {}
        }
      ]
    },
    {
      "cell_type": "code",
      "source": [
        "# Agrupar por provincia en la tabla de Internet y mostrar estadísticas adicionales\n",
        "agrupado_provincia = df_internet.groupby(\"Provincia\")[[\"Accesos\", \"Velocidad_Mbps\"]].agg([\"mean\", \"median\", \"std\"])\n",
        "print(agrupado_provincia)\n"
      ],
      "metadata": {
        "colab": {
          "base_uri": "https://localhost:8080/"
        },
        "id": "iruouR7atBnw",
        "outputId": "67bdd40e-b6db-493a-8125-3af6971a17a7"
      },
      "execution_count": 57,
      "outputs": [
        {
          "output_type": "stream",
          "name": "stdout",
          "text": [
            "              Accesos                     Velocidad_Mbps              \\\n",
            "                 mean median          std           mean      median   \n",
            "Provincia                                                              \n",
            "0.000      403.508274    9.0  3306.472510   3.473021e+07  26024535.0   \n",
            "0.256        2.365079    1.0     4.643072   4.177045e+07  42014010.0   \n",
            "0.500       41.783489    1.0   955.202519   3.533955e+07  26038540.0   \n",
            "0.512        2.143898    1.0     4.695788   4.578760e+07  42147020.0   \n",
            "0.750       39.588028    9.5   118.563946   2.127193e+07   6598550.0   \n",
            "...               ...    ...          ...            ...         ...   \n",
            "850.000      1.000000    1.0          NaN   1.401401e+07  14014010.0   \n",
            "900.000    110.000000  110.0          NaN   6.200709e+07  62007090.0   \n",
            "999.000      3.352941    2.0     5.700232   1.939510e+07   6805010.0   \n",
            "1000.000   539.558962  142.5  3264.198410   2.285481e+07   6658010.0   \n",
            "1024.000     1.000000    1.0          NaN   0.000000e+00         0.0   \n",
            "\n",
            "                         \n",
            "                    std  \n",
            "Provincia                \n",
            "0.000      2.908685e+07  \n",
            "0.256      3.187457e+07  \n",
            "0.500      2.883397e+07  \n",
            "0.512      2.905983e+07  \n",
            "0.750      2.493654e+07  \n",
            "...                 ...  \n",
            "850.000             NaN  \n",
            "900.000             NaN  \n",
            "999.000    2.669032e+07  \n",
            "1000.000   2.829952e+07  \n",
            "1024.000            NaN  \n",
            "\n",
            "[118 rows x 6 columns]\n"
          ]
        }
      ]
    },
    {
      "cell_type": "code",
      "source": [
        "# Consulta SQL que une la tabla Internet con la de Mapa de Conectividad (ejemplo)\n",
        "query_combined = \"\"\"\n",
        "SELECT i.Provincia, i.Accesos, i.Velocidad_Mbps, m.Latitud, m.Longitud\n",
        "FROM Internet i\n",
        "JOIN MapaConectividad m ON i.Provincia = m.Provincia\n",
        "LIMIT 10;\n",
        "\"\"\"\n",
        "result_combined = pd.read_sql(query_combined, conn)\n",
        "print(result_combined)\n"
      ],
      "metadata": {
        "colab": {
          "base_uri": "https://localhost:8080/"
        },
        "id": "R3g175SItDLg",
        "outputId": "ddf8b695-a06b-4fa1-8ab9-e06833a3c843"
      },
      "execution_count": 58,
      "outputs": [
        {
          "output_type": "stream",
          "name": "stdout",
          "text": [
            "Empty DataFrame\n",
            "Columns: [Provincia, Accesos, Velocidad_Mbps, Latitud, Longitud]\n",
            "Index: []\n"
          ]
        }
      ]
    },
    {
      "cell_type": "code",
      "source": [
        "# Exportar el resultado de alguna consulta a un archivo CSV\n",
        "result_combined.to_csv(\"resultados_combinados.csv\", index=False)\n"
      ],
      "metadata": {
        "id": "vznVCeJFtLUZ"
      },
      "execution_count": 59,
      "outputs": []
    },
    {
      "cell_type": "code",
      "source": [
        "cursor.execute(\"SELECT name FROM sqlite_master WHERE type='table';\")\n",
        "print(\"Tablas en la base de datos:\", cursor.fetchall())\n"
      ],
      "metadata": {
        "colab": {
          "base_uri": "https://localhost:8080/"
        },
        "id": "y188ri5ItPxo",
        "outputId": "165c65dd-53bb-44a0-8753-bb5be97ffb59"
      },
      "execution_count": 60,
      "outputs": [
        {
          "output_type": "stream",
          "name": "stdout",
          "text": [
            "Tablas en la base de datos: [('Internet',), ('MapaConectividad',), ('Portabilidad',), ('TelefoniaFija',), ('TelefoniaMovil',), ('Television',), ('ServiciosPostales_new',), ('ServiciosPostales',)]\n"
          ]
        }
      ]
    }
  ]
}